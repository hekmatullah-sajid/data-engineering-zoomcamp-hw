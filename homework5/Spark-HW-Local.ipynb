{
 "cells": [
  {
   "cell_type": "code",
   "execution_count": 1,
   "id": "c42e6b1e-cc47-476a-a238-b05e20c4ee56",
   "metadata": {},
   "outputs": [],
   "source": [
    "import pyspark\n",
    "from pyspark.sql import SparkSession\n",
    "import pandas as pd\n",
    "from pyspark.sql import types"
   ]
  },
  {
   "cell_type": "code",
   "execution_count": 2,
   "id": "78710068-8672-4803-b5ad-e5065257d948",
   "metadata": {},
   "outputs": [],
   "source": [
    "spark = SparkSession.builder \\\n",
    "    .master(\"local[*]\") \\\n",
    "    .appName(\"Spark HW Local\") \\\n",
    "    .getOrCreate()"
   ]
  },
  {
   "cell_type": "code",
   "execution_count": 3,
   "id": "1c46c816-dfb5-42ba-a189-b501133a0ce8",
   "metadata": {},
   "outputs": [
    {
     "name": "stdout",
     "output_type": "stream",
     "text": [
      "Spark version is 3.4.2\n"
     ]
    }
   ],
   "source": [
    "# The output of spark.version.\n",
    "print(f'Spark version is {spark.version}')"
   ]
  },
  {
   "cell_type": "code",
   "execution_count": 4,
   "id": "fbe7ab02-dd15-43a5-9134-7df02a4f905e",
   "metadata": {},
   "outputs": [],
   "source": [
    "df_spark = spark.read \\\n",
    "    .option('header', 'true') \\\n",
    "    .option('inferschema', 'true') \\\n",
    "    .csv('data/raw/fhv_tripdata_2019-10.csv')"
   ]
  },
  {
   "cell_type": "code",
   "execution_count": 5,
   "id": "13788bd2-5dd5-4435-9941-13157a92bb17",
   "metadata": {},
   "outputs": [],
   "source": [
    "# df_spark.printSchema()"
   ]
  },
  {
   "cell_type": "code",
   "execution_count": 6,
   "id": "448cbc11-cfef-4db7-8099-90c997519b43",
   "metadata": {},
   "outputs": [],
   "source": [
    "# df_spark.schema"
   ]
  },
  {
   "cell_type": "code",
   "execution_count": 7,
   "id": "99135b2a-8df6-49d1-9763-e0754d891a54",
   "metadata": {},
   "outputs": [
    {
     "data": {
      "text/plain": [
       "\"\\nschema = types.StructType([\\n    types.StructField('dispatching_base_num', types.StringType(), True), \\n    types.StructField('pickup_datetime', types.TimestampType(), True), \\n    types.StructField('dropOff_datetime', types.TimestampType(), True), \\n    types.StructField('PUlocationID', types.IntegerType(), True), \\n    types.StructField('DOlocationID', types.IntegerType(), True), \\n    types.StructField('SR_Flag', types.StringType(), True), \\n    types.StructField('Affiliated_base_number', types.StringType(), True)\\n])\\n\""
      ]
     },
     "execution_count": 7,
     "metadata": {},
     "output_type": "execute_result"
    }
   ],
   "source": [
    "'''\n",
    "schema = types.StructType([\n",
    "    types.StructField('dispatching_base_num', types.StringType(), True), \n",
    "    types.StructField('pickup_datetime', types.TimestampType(), True), \n",
    "    types.StructField('dropOff_datetime', types.TimestampType(), True), \n",
    "    types.StructField('PUlocationID', types.IntegerType(), True), \n",
    "    types.StructField('DOlocationID', types.IntegerType(), True), \n",
    "    types.StructField('SR_Flag', types.StringType(), True), \n",
    "    types.StructField('Affiliated_base_number', types.StringType(), True)\n",
    "])\n",
    "'''"
   ]
  },
  {
   "cell_type": "code",
   "execution_count": 8,
   "id": "c37e2b4f-83ec-4a87-a0d6-06baa8d13754",
   "metadata": {},
   "outputs": [
    {
     "data": {
      "text/plain": [
       "'\\ndf_spark = spark.read     .option(\"header\", \"true\")     .schema(schema)     .csv(\"data/raw/fhv_tripdata_2019-10.csv\")\\n'"
      ]
     },
     "execution_count": 8,
     "metadata": {},
     "output_type": "execute_result"
    }
   ],
   "source": [
    "\"\"\"\n",
    "df_spark = spark.read \\\n",
    "    .option(\"header\", \"true\") \\\n",
    "    .schema(schema) \\\n",
    "    .csv(\"data/raw/fhv_tripdata_2019-10.csv\")\n",
    "\"\"\""
   ]
  },
  {
   "cell_type": "code",
   "execution_count": 9,
   "id": "71f73d3f-46b9-48f4-9ffc-fe8a06cc68c1",
   "metadata": {},
   "outputs": [],
   "source": [
    "df_spark = df_spark.repartition(6)"
   ]
  },
  {
   "cell_type": "code",
   "execution_count": 10,
   "id": "f3ce9a93-af01-4902-8fa9-19def4b74b37",
   "metadata": {},
   "outputs": [],
   "source": [
    "df_spark.write.parquet('data/output/fhv10/', mode='overwrite')"
   ]
  },
  {
   "cell_type": "code",
   "execution_count": 11,
   "id": "9598c3b2-e0b2-4703-9292-27e44c7c1775",
   "metadata": {},
   "outputs": [],
   "source": [
    "df_spark.createOrReplaceTempView('fhv_tripdata')"
   ]
  },
  {
   "cell_type": "code",
   "execution_count": 12,
   "id": "28c43290-6c71-441d-89f5-2e27ca09f11f",
   "metadata": {},
   "outputs": [
    {
     "name": "stdout",
     "output_type": "stream",
     "text": [
      "Number of trips on the 15th of October:\n",
      "+----------------+\n",
      "|cctober_15_trips|\n",
      "+----------------+\n",
      "|           62610|\n",
      "+----------------+\n",
      "\n"
     ]
    }
   ],
   "source": [
    "# Number of trips on the 15th of October\n",
    "\n",
    "print(\"Number of trips on the 15th of October:\")\n",
    "spark.sql(\n",
    "\"\"\"\n",
    "SELECT\n",
    "    COUNT(1) AS cctober_15_trips\n",
    "FROM\n",
    "    fhv_tripdata\n",
    "WHERE\n",
    "    DATE(pickup_datetime)='2019-10-15'\n",
    "\"\"\"\n",
    ").show()"
   ]
  },
  {
   "cell_type": "code",
   "execution_count": 13,
   "id": "46797dad-b44f-484f-b853-765350f3bf7b",
   "metadata": {},
   "outputs": [
    {
     "name": "stdout",
     "output_type": "stream",
     "text": [
      "The longest trip in the dataset in hours:\n",
      "+-------------+\n",
      "| longest_trip|\n",
      "+-------------+\n",
      "|631152.500000|\n",
      "+-------------+\n",
      "\n"
     ]
    }
   ],
   "source": [
    "# The longest trip in the dataset in hours\n",
    "# TIMESTAMPDIFF(HOUR, ... also works, but it returns 0 for the value after the decimal point\n",
    "\n",
    "print(\"The longest trip in the dataset in hours:\")\n",
    "spark.sql(\n",
    "\"\"\"\n",
    "SELECT\n",
    "    TIMESTAMPDIFF(SECOND, pickup_datetime, dropOff_datetime)/3600.0 AS longest_trip\n",
    "FROM\n",
    "    fhv_tripdata\n",
    "ORDER BY\n",
    "    longest_trip DESC\n",
    "LIMIT 1\n",
    "\"\"\"\n",
    ").show()"
   ]
  },
  {
   "cell_type": "code",
   "execution_count": 14,
   "id": "194add89-1694-4492-818a-ee86ac646c96",
   "metadata": {},
   "outputs": [],
   "source": [
    "df_zones= spark.read.parquet('data/zones/')"
   ]
  },
  {
   "cell_type": "code",
   "execution_count": 15,
   "id": "b6616891-cd7a-46e7-bb22-1ca004bfe9f1",
   "metadata": {},
   "outputs": [],
   "source": [
    "df_zones.createOrReplaceTempView('zones')"
   ]
  },
  {
   "cell_type": "code",
   "execution_count": 16,
   "id": "30805337-9d9c-4da9-84d4-5b1a5ce721b3",
   "metadata": {},
   "outputs": [
    {
     "name": "stdout",
     "output_type": "stream",
     "text": [
      "The five Least frequent pickup location zones:\n",
      "+---------------------+--------------------+\n",
      "|trips_per_pickup_zone|         pickup_zone|\n",
      "+---------------------+--------------------+\n",
      "|                    1|         Jamaica Bay|\n",
      "|                    2|Governor's Island...|\n",
      "|                    5| Green-Wood Cemetery|\n",
      "|                    8|       Broad Channel|\n",
      "|                   14|     Highbridge Park|\n",
      "+---------------------+--------------------+\n",
      "\n"
     ]
    }
   ],
   "source": [
    "# Least frequent pickup location zone\n",
    "\n",
    "print(\"The five Least frequent pickup location zones:\")\n",
    "df_least_zones = spark.sql(\n",
    "\"\"\"\n",
    "SELECT\n",
    "    COUNT(1) AS trips_per_pickup_zone,\n",
    "    zones.Zone AS pickup_zone\n",
    "FROM\n",
    "    fhv_tripdata\n",
    "JOIN\n",
    "    zones ON fhv_tripdata.PUlocationID = zones.LocationID\n",
    "GROUP BY\n",
    "    zones.Zone\n",
    "ORDER BY\n",
    "    trips_per_pickup_zone ASC\n",
    "LIMIT 5;\n",
    "\"\"\" \n",
    ").show()"
   ]
  },
  {
   "cell_type": "code",
   "execution_count": null,
   "id": "afce23df-cef3-4029-acb6-8439a58258e4",
   "metadata": {},
   "outputs": [],
   "source": []
  }
 ],
 "metadata": {
  "kernelspec": {
   "display_name": "Python 3 (ipykernel)",
   "language": "python",
   "name": "python3"
  },
  "language_info": {
   "codemirror_mode": {
    "name": "ipython",
    "version": 3
   },
   "file_extension": ".py",
   "mimetype": "text/x-python",
   "name": "python",
   "nbconvert_exporter": "python",
   "pygments_lexer": "ipython3",
   "version": "3.12.1"
  }
 },
 "nbformat": 4,
 "nbformat_minor": 5
}
